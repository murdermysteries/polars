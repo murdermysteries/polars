{
 "cells": [
  {
   "cell_type": "markdown",
   "metadata": {},
   "source": [
    "# Death at the Aurora Theater: A Polars Murder Mystery\n",
    "\n",
    "## Introduction\n",
    "\n",
    "Welcome, Detective! A terrible crime has occurred at the Aurora Theater. Last night, March 15th, 2025, the lead actor Victoria Hayes was found dead in her dressing room shortly after the evening performance. As the lead investigator on this case, your job is to analyze the evidence and identify the killer.\n",
    "\n",
    "You have access to several datasets that may help you solve this case:\n",
    "\n",
    "1. **Police Records**: Information about recent crimes, including this murder\n",
    "2. **Witness Reports**: Statements from people who were at the theater\n",
    "3. **Stage Access Logs**: Records of who entered and exited different areas of the theater\n",
    "4. **Staff Database**: Information about theater employees\n",
    "\n",
    "In this notebook, you'll use the powerful **Polars** library to analyze these datasets and find connections that will lead you to the killer. Let's begin our investigation!"
   ]
  },
  {
   "cell_type": "markdown",
   "metadata": {},
   "source": [
    "## Setting Up\n",
    "\n",
    "First, let's import the Polars library and load our datasets."
   ]
  },
  {
   "cell_type": "code",
   "execution_count": null,
   "metadata": {},
   "outputs": [],
   "source": [
    "import polars as pl\n",
    "\n",
    "# Load the datasets\n",
    "police_records = pl.read_csv(\"datasets/police_records.csv\")\n",
    "witness_reports = pl.read_csv(\"datasets/witness_reports.csv\")\n",
    "stage_access = pl.read_csv(\"datasets/stage_access.csv\")\n",
    "staff_database = pl.read_csv(\"datasets/staff_database.csv\")\n",
    "\n",
    "# Display the first few rows of each dataset to get familiar with the data\n",
    "print(\"Police Records:\")\n",
    "print(police_records.head())\n",
    "print(\"\\nWitness Reports:\")\n",
    "print(witness_reports.head())\n",
    "print(\"\\nStage Access Logs:\")\n",
    "print(stage_access.head())\n",
    "print(\"\\nStaff Database:\")\n",
    "print(staff_database.head())"
   ]
  },
  {
   "cell_type": "markdown",
   "metadata": {},
   "source": [
    "## Step 1: Identify the Murder Case\n",
    "\n",
    "Let's start by finding the specific case related to the murder at the Aurora Theater. We'll use Polars' filtering capabilities to find this information."
   ]
  },
  {
   "cell_type": "code",
   "execution_count": null,
   "metadata": {},
   "outputs": [],
   "source": [
    "# Filter the police records to find our murder case\n",
    "murder_case = police_records.filter(\n",
    "    (pl.col(\"location\") == \"Aurora Theater\") & \n",
    "    (pl.col(\"type\") == \"murder\") & \n",
    "    (pl.col(\"date\") == \"2025-03-15\")\n",
    ")\n",
    "\n",
    "print(\"Murder Case Details:\")\n",
    "print(murder_case)"
   ]
  },
  {
   "cell_type": "markdown",
   "metadata": {},
   "source": [
    "## Step 2: Examine Witness Reports\n",
    "\n",
    "Now that we have the case ID, let's look at witness reports related to this case. Witnesses may have seen something important that could help us identify the killer."
   ]
  },
  {
   "cell_type": "code",
   "execution_count": null,
   "metadata": {},
   "outputs": [],
   "source": [
    "# Get the case ID from our murder case\n",
    "case_id = murder_case.select(\"case_id\").item()\n",
    "print(f\"Case ID: {case_id}\\n\")\n",
    "\n",
    "# Filter witness reports for our case\n",
    "case_witnesses = witness_reports.filter(pl.col(\"case_id\") == case_id)\n",
    "\n",
    "print(f\"Witness Reports for Case {case_id}:\")\n",
    "print(case_witnesses)"
   ]
  },
  {
   "cell_type": "markdown",
   "metadata": {},
   "source": [
    "## Step 3: Analyze Stage Access Logs\n",
    "\n",
    "The murder took place in the victim's dressing room. Let's analyze the stage access logs to see who entered and exited the dressing room around the time of the murder."
   ]
  },
  {
   "cell_type": "code",
   "execution_count": null,
   "metadata": {},
   "outputs": [],
   "source": [
    "# Filter access logs for the day of the murder\n",
    "murder_date = murder_case.select(\"date\").item()\n",
    "day_access_logs = stage_access.filter(pl.col(\"date\").str.contains(murder_date))\n",
    "\n",
    "print(f\"Access Logs for {murder_date}:\")\n",
    "print(day_access_logs)"
   ]
  },
  {
   "cell_type": "markdown",
   "metadata": {},
   "source": [
    "Let's focus specifically on the dressing room access, since that's where the victim was found."
   ]
  },
  {
   "cell_type": "code",
   "execution_count": null,
   "metadata": {},
   "outputs": [],
   "source": [
    "# Filter for dressing room access on the murder day\n",
    "dressing_room_access = day_access_logs.filter(pl.col(\"location\") == \"dressing room\")\n",
    "\n",
    "print(\"Dressing Room Access Logs:\")\n",
    "print(dressing_room_access.sort(\"date\"))"
   ]
  },
  {
   "cell_type": "markdown",
   "metadata": {},
   "source": [
    "## Step 4: Identify the Victim\n",
    "\n",
    "From the introduction, we know the victim was Victoria Hayes, the lead actor. Let's confirm this from our staff database."
   ]
  },
  {
   "cell_type": "code",
   "execution_count": null,
   "metadata": {},
   "outputs": [],
   "source": [
    "# Find the victim in the staff database\n",
    "victim = staff_database.filter(pl.col(\"employee_name\") == \"Victoria Hayes\")\n",
    "print(\"Victim Information:\")\n",
    "print(victim)\n",
    "\n",
    "# Get the victim's employee ID\n",
    "victim_id = victim.select(\"employee_id\").item()\n",
    "print(f\"\\nVictim ID: {victim_id}\")"
   ]
  },
  {
   "cell_type": "markdown",
   "metadata": {},
   "source": [
    "## Step 5: Track the Victim's Movements\n",
    "\n",
    "Let's track the victim's movements on the day of the murder."
   ]
  },
  {
   "cell_type": "code",
   "execution_count": null,
   "metadata": {},
   "outputs": [],
   "source": [
    "# Filter access logs for the victim on the murder day\n",
    "victim_movements = day_access_logs.filter(pl.col(\"member_id\") == victim_id)\n",
    "\n",
    "print(f\"Victim's Movements on {murder_date}:\")\n",
    "print(victim_movements.sort(\"date\"))"
   ]
  },
  {
   "cell_type": "markdown",
   "metadata": {},
   "source": [
    "## Step 6: Identify Suspicious Activity\n",
    "\n",
    "Let's look for suspicious patterns in the access logs. We'll focus on people who entered the dressing room around the time the victim was last seen there."
   ]
  },
  {
   "cell_type": "code",
   "execution_count": null,
   "metadata": {},
   "outputs": [],
   "source": [
    "# Find the last time the victim entered the dressing room\n",
    "last_entry = victim_movements.filter(\n",
    "    (pl.col(\"location\") == \"dressing room\") & \n",
    "    (pl.col(\"direction\") == \"entering\")\n",
    ").sort(\"date\", descending=True).head(1)\n",
    "\n",
    "last_entry_time = last_entry.select(\"date\").item()\n",
    "print(f\"Victim's last entry to dressing room: {last_entry_time}\")\n",
    "\n",
    "# Find anyone who entered the dressing room after the victim's last entry\n",
    "suspicious_entries = dressing_room_access.filter(\n",
    "    (pl.col(\"date\") > last_entry_time) & \n",
    "    (pl.col(\"member_id\") != victim_id) & \n",
    "    (pl.col(\"direction\") == \"entering\")\n",
    ")\n",
    "\n",
    "print(\"\\nPeople who entered the dressing room after the victim:\")\n",
    "print(suspicious_entries)"
   ]
  },
  {
   "cell_type": "markdown",
   "metadata": {},
   "source": [
    "## Step 7: Cross-Reference with Staff Database\n",
    "\n",
    "Let's identify who these suspicious individuals are by joining with the staff database."
   ]
  },
  {
   "cell_type": "code",
   "execution_count": null,
   "metadata": {},
   "outputs": [],
   "source": [
    "# Get the list of suspicious member IDs\n",
    "suspicious_ids = suspicious_entries.select(\"member_id\").to_series().to_list()\n",
    "\n",
    "# Find these members in the staff database\n",
    "suspicious_staff = staff_database.filter(pl.col(\"employee_id\").is_in(suspicious_ids))\n",
    "\n",
    "print(\"Suspicious Staff Members:\")\n",
    "print(suspicious_staff)"
   ]
  },
  {
   "cell_type": "markdown",
   "metadata": {},
   "source": [
    "## Step 8: Analyze All Staff Movements\n",
    "\n",
    "Let's look at the movements of all staff members on the day of the murder to see if there are any other suspicious patterns."
   ]
  },
  {
   "cell_type": "code",
   "execution_count": null,
   "metadata": {},
   "outputs": [],
   "source": [
    "# Join the access logs with staff information\n",
    "staff_movements = day_access_logs.join(\n",
    "    staff_database,\n",
    "    left_on=\"member_id\",\n",
    "    right_on=\"employee_id\"\n",
    ")\n",
    "\n",
    "# Sort by time to see the sequence of events\n",
    "staff_movements = staff_movements.sort(\"date\")\n",
    "\n",
    "print(\"Staff Movements on the Day of the Murder:\")\n",
    "print(staff_movements.select([\"date\", \"employee_name\", \"employee_role\", \"location\", \"direction\"]))"
   ]
  },
  {
   "cell_type": "markdown",
   "metadata": {},
   "source": [
    "## Step 9: Cross-Reference with Witness Testimonies\n",
    "\n",
    "Let's look back at the witness testimonies to see if any of them mention our suspicious staff members."
   ]
  },
  {
   "cell_type": "code",
   "execution_count": null,
   "metadata": {},
   "outputs": [],
   "source": [
    "# Function to check if a testimony mentions a specific role\n",
    "def mentions_role(testimony, role):\n",
    "    return role.lower() in testimony.lower()\n",
    "\n",
    "# Register the function with Polars\n",
    "pl.register_user_defined_function(\n",
    "    \"mentions_role\", \n",
    "    lambda testimony, role: mentions_role(testimony, role), \n",
    "    [pl.Utf8, pl.Utf8], \n",
    "    pl.Boolean\n",
    ")\n",
    "\n",
    "# Get all the roles from our suspicious staff\n",
    "suspicious_roles = suspicious_staff.select(\"employee_role\").to_series().to_list()\n",
    "\n",
    "# Check each witness testimony for mentions of these roles\n",
    "relevant_testimonies = []\n",
    "for role in suspicious_roles:\n",
    "    testimonies = case_witnesses.filter(pl.col(\"testimony\").str.contains(role, ignore_case=True))\n",
    "    if testimonies.height > 0:\n",
    "        print(f\"Testimonies mentioning {role}:\")\n",
    "        print(testimonies)\n",
    "        print()\n",
    "        relevant_testimonies.extend(testimonies.to_dicts())"
   ]
  },
  {
   "cell_type": "markdown",
   "metadata": {},
   "source": [
    "## Step 10: Identify the Killer\n",
    "\n",
    "Based on our analysis, let's identify the most likely suspect. We'll look for someone who:\n",
    "\n",
    "1. Had access to the dressing room around the time of the murder\n",
    "2. Was mentioned in witness testimonies in a suspicious context\n",
    "3. Had a motive or opportunity to commit the crime"
   ]
  },
  {
   "cell_type": "code",
   "execution_count": null,
   "metadata": {},
   "outputs": [],
   "source": [
    "# Let's look at all the evidence together\n",
    "print(\"SUMMARY OF EVIDENCE:\\n\")\n",
    "\n",
    "print(\"1. Suspicious dressing room entries after victim's last entry:\")\n",
    "suspicious_with_names = suspicious_entries.join(\n",
    "    staff_database,\n",
    "    left_on=\"member_id\",\n",
    "    right_on=\"employee_id\"\n",
    ")\n",
    "print(suspicious_with_names.select([\"date\", \"employee_name\", \"employee_role\"]))\n",
    "print()\n",
    "\n",
    "print(\"2. Victim's last movements:\")\n",
    "print(victim_movements.sort(\"date\"))\n",
    "print()\n",
    "\n",
    "print(\"3. Relevant witness testimonies:\")\n",
    "for testimony in relevant_testimonies:\n",
    "    print(f\"Witness {testimony['witness_name']}: {testimony['testimony']}\")\n",
    "print()\n",
    "\n",
    "# Based on the evidence, who do you think is the killer?\n",
    "print(\"Based on the evidence, the most likely suspect is...\")"
   ]
  },
  {
   "cell_type": "markdown",
   "metadata": {},
   "source": [
    "## Your Conclusion\n",
    "\n",
    "Now it's time for you to make your case! Based on the evidence you've analyzed, who do you think killed Victoria Hayes?\n",
    "\n",
    "Write your conclusion below, explaining:\n",
    "1. Who you think the killer is\n",
    "2. What evidence supports your conclusion\n",
    "3. What you think the motive might have been"
   ]
  },
  {
   "cell_type": "code",
   "execution_count": null,
   "metadata": {},
   "outputs": [],
   "source": [
    "# Import hashlib for secure answer checking\n",
    "import hashlib\n",
    "\n",
    "# Your conclusion here\n",
    "suspect_name = \"Thomas Wright\"  # Replace with your suspect's name\n",
    "\n",
    "# Function to check if your answer is correct using a hash\n",
    "def check_answer(name):\n",
    "    # Convert the name to lowercase and create a hash\n",
    "    name_hash = hashlib.md5(name.lower().encode()).hexdigest()\n",
    "    \n",
    "    # The correct answer hash (for \"thomas wright\")\n",
    "    correct_hash = \"e6358890e7c9c1f43fe6d93f9c5a4920\"\n",
    "    \n",
    "    if name_hash == correct_hash:\n",
    "        print(\"Congratulations, Detective! You've solved the case!\")\n",
    "        print(\"\\nCase Summary:\")\n",
    "        print(\"The lighting technician killed Victoria Hayes in her dressing room.\")\n",
    "        print(\"The evidence shows that he entered her dressing room shortly after she returned from the stage.\")\n",
    "        print(\"Witnesses reported seeing him arguing with her earlier in the day.\")\n",
    "        print(\"He had access to the lighting grid, dressing room, and backstage areas.\")\n",
    "        print(\"The motive appears to be a long-standing professional rivalry and personal grudge.\")\n",
    "    else:\n",
    "        print(\"That's not quite right. Review the evidence again and look for patterns in the access logs and witness testimonies.\")\n",
    "        \n",
    "# Check your answer\n",
    "check_answer(suspect_name)"
   ]
  },
  {
   "cell_type": "markdown",
   "metadata": {},
   "source": [
    "## Bonus: Advanced Polars Techniques\n",
    "\n",
    "If you've solved the case and want to explore more Polars features, try these advanced techniques:"
   ]
  },
  {
   "cell_type": "code",
   "execution_count": null,
   "metadata": {},
   "outputs": [],
   "source": [
    "# 1. Use expressions to create a new column showing how long each person spent in each location\n",
    "# First, let's create a helper function to parse the datetime strings\n",
    "def parse_datetime(dt_str):\n",
    "    from datetime import datetime\n",
    "    return datetime.strptime(dt_str, \"%Y-%m-%d %H:%M:%S\")\n",
    "\n",
    "# Register the function with Polars\n",
    "pl.register_user_defined_function(\n",
    "    \"parse_datetime\", \n",
    "    lambda dt_str: parse_datetime(dt_str), \n",
    "    [pl.Utf8], \n",
    "    pl.Datetime\n",
    ")\n",
    "\n",
    "# Convert date strings to datetime objects\n",
    "day_access_with_dt = day_access_logs.with_columns(\n",
    "    pl.col(\"date\").map_elements(parse_datetime).alias(\"datetime\")\n",
    ")\n",
    "\n",
    "# Group by member_id and location to find entry and exit times\n",
    "# This is a more complex analysis that would require matching entries with exits\n",
    "# Here's a simplified approach looking at the first entry and last exit for each person/location\n",
    "location_durations = day_access_with_dt.group_by([\"member_id\", \"location\"]).agg([\n",
    "    pl.col(\"datetime\").min().alias(\"first_seen\"),\n",
    "    pl.col(\"datetime\").max().alias(\"last_seen\")\n",
    "])\n",
    "\n",
    "# Join with staff names\n",
    "location_durations_with_names = location_durations.join(\n",
    "    staff_database,\n",
    "    left_on=\"member_id\",\n",
    "    right_on=\"employee_id\"\n",
    ")\n",
    "\n",
    "print(\"Time Spent in Each Location:\")\n",
    "print(location_durations_with_names.select([\"employee_name\", \"employee_role\", \"location\", \"first_seen\", \"last_seen\"]))"
   ]
  },
  {
   "cell_type": "code",
   "execution_count": null,
   "metadata": {},
   "outputs": [],
   "source": [
    "# 2. Use window functions to analyze the sequence of events\n",
    "# For each person, find who they could have interacted with based on being in the same location at the same time\n",
    "\n",
    "# First, let's create a more detailed timeline of all movements\n",
    "timeline = day_access_with_dt.join(\n",
    "    staff_database,\n",
    "    left_on=\"member_id\",\n",
    "    right_on=\"employee_id\"\n",
    ").sort(\"datetime\")\n",
    "\n",
    "# For each location, find all people who were there at the same time\n",
    "# This would require a more complex analysis with overlapping time windows\n",
    "# Here's a simplified approach looking at who was in the same location on the same day\n",
    "\n",
    "# Group by location to see who was in each place\n",
    "location_visitors = timeline.group_by(\"location\").agg([\n",
    "    pl.col(\"employee_name\").unique().alias(\"visitors\")\n",
    "])\n",
    "\n",
    "print(\"People who visited each location:\")\n",
    "print(location_visitors)"
   ]
  },
  {
   "cell_type": "markdown",
   "metadata": {},
   "source": [
    "## Conclusion\n",
    "\n",
    "Congratulations on completing this Polars Murder Mystery! You've used data analysis techniques to solve a crime and learned about several Polars features along the way, including:\n",
    "\n",
    "- Filtering data with conditions\n",
    "- Joining datasets\n",
    "- Sorting and grouping data\n",
    "- Using expressions and user-defined functions\n",
    "- Working with strings and dates\n",
    "\n",
    "These skills are valuable not just for solving fictional murders, but for real-world data analysis tasks. Keep practicing with Polars to become even more proficient at extracting insights from data!"
   ]
  }
 ],
 "metadata": {
  "kernelspec": {
   "display_name": "Python 3",
   "language": "python",
   "name": "python3"
  },
  "language_info": {
   "codemirror_mode": {
    "name": "ipython",
    "version": 3
   },
   "file_extension": ".py",
   "mimetype": "text/x-python",
   "name": "python",
   "nbconvert_exporter": "python",
   "pygments_lexer": "ipython3",
   "version": "3.8.10"
  }
 },
 "nbformat": 4,
 "nbformat_minor": 4
}
