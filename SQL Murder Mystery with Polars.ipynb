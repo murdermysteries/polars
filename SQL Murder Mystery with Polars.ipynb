{
 "cells": [
  {
   "cell_type": "code",
   "execution_count": 1,
   "metadata": {},
   "outputs": [],
   "source": [
    "import polars as pl"
   ]
  },
  {
   "cell_type": "code",
   "execution_count": 2,
   "metadata": {},
   "outputs": [],
   "source": [
    "path = 'C:/python/database-detective/sql_murder_mystery'"
   ]
  },
  {
   "cell_type": "code",
   "execution_count": 6,
   "metadata": {},
   "outputs": [
    {
     "name": "stdout",
     "output_type": "stream",
     "text": [
      "shape: (1_228, 4)\n",
      "┌──────────┬─────────┬─────────────────────────────────┬──────────────┐\n",
      "│ date     ┆ type    ┆ description                     ┆ city         │\n",
      "│ ---      ┆ ---     ┆ ---                             ┆ ---          │\n",
      "│ i64      ┆ str     ┆ str                             ┆ str          │\n",
      "╞══════════╪═════════╪═════════════════════════════════╪══════════════╡\n",
      "│ 20180115 ┆ robbery ┆ A Man Dressed as Spider-Man Is… ┆ NYC          │\n",
      "│ 20180115 ┆ murder  ┆ Life? Dont talk to me about li… ┆ Albany       │\n",
      "│ 20180115 ┆ murder  ┆ Mama, I killed a man, put a gu… ┆ Reno         │\n",
      "│ 20180215 ┆ murder  ┆ REDACTED REDACTED REDACTED      ┆ SQL City     │\n",
      "│ 20180215 ┆ murder  ┆ Someone killed the guard! He t… ┆ SQL City     │\n",
      "│ …        ┆ …       ┆ …                               ┆ …            │\n",
      "│ 20180430 ┆ bribery ┆                                 ┆ Garden Grove │\n",
      "│          ┆         ┆                                 ┆              │\n",
      "│ 20180430 ┆ fraud   ┆ ‘Why not?’ said the March Hare… ┆ Houma        │\n",
      "│ 20180430 ┆ assault ┆                                 ┆ Fontana      │\n",
      "│          ┆         ┆                                 ┆              │\n",
      "│ 20180501 ┆ assault ┆ be NO mistake about it: it was… ┆ Trenton      │\n",
      "│ 20180115 ┆ murder  ┆ Security footage shows that th… ┆ SQL City     │\n",
      "└──────────┴─────────┴─────────────────────────────────┴──────────────┘\n"
     ]
    }
   ],
   "source": [
    "# https://docs.pola.rs/user-guide/getting-started/#reading-writing\n",
    "\n",
    "df_crime_scenes = pl.read_csv(path+'/crime_scene_report.csv')\n",
    "print(df_crime_scenes)"
   ]
  },
  {
   "cell_type": "code",
   "execution_count": 13,
   "metadata": {},
   "outputs": [
    {
     "name": "stdout",
     "output_type": "stream",
     "text": [
      "Rows: 1\n",
      "Columns: 1\n",
      "$ description <str> 'Security footage shows that there were 2 witnesses. The first witness lives at the last house on \"Northwestern Dr\". The second witness, named Annabel, lives somewhere on \"Franklin Ave\".'\n",
      "\n",
      "None\n"
     ]
    }
   ],
   "source": [
    "# https://gist.github.com/maartenterpstra/eacc113ca6fa2d10a8c763eca8e23fdf\n",
    "\n",
    "result = (\n",
    "    df_crime_scenes\n",
    "    .filter(\n",
    "        (pl.col('date')==20180115) &\n",
    "        (pl.col('city')=='SQL City') & \n",
    "        (pl.col('type')=='murder')\n",
    "    )\n",
    "    .select('description')\n",
    "    .glimpse() # .to_dicts() is an alternative\n",
    ")\n",
    "\n",
    "print(result)"
   ]
  },
  {
   "cell_type": "code",
   "execution_count": 11,
   "metadata": {},
   "outputs": [
    {
     "data": {
      "text/html": [
       "<div><style>\n",
       ".dataframe > thead > tr,\n",
       ".dataframe > tbody > tr {\n",
       "  text-align: right;\n",
       "  white-space: pre-wrap;\n",
       "}\n",
       "</style>\n",
       "<small>shape: (1, 1)</small><table border=\"1\" class=\"dataframe\"><thead><tr><th>description</th></tr><tr><td>str</td></tr></thead><tbody><tr><td>&quot;Security footage shows that th…</td></tr></tbody></table></div>"
      ],
      "text/plain": [
       "shape: (1, 1)\n",
       "┌─────────────────────────────────┐\n",
       "│ description                     │\n",
       "│ ---                             │\n",
       "│ str                             │\n",
       "╞═════════════════════════════════╡\n",
       "│ Security footage shows that th… │\n",
       "└─────────────────────────────────┘"
      ]
     },
     "execution_count": 11,
     "metadata": {},
     "output_type": "execute_result"
    }
   ],
   "source": [
    "result"
   ]
  }
 ],
 "metadata": {
  "kernelspec": {
   "display_name": "base",
   "language": "python",
   "name": "python3"
  },
  "language_info": {
   "codemirror_mode": {
    "name": "ipython",
    "version": 3
   },
   "file_extension": ".py",
   "mimetype": "text/x-python",
   "name": "python",
   "nbconvert_exporter": "python",
   "pygments_lexer": "ipython3",
   "version": "3.12.3"
  }
 },
 "nbformat": 4,
 "nbformat_minor": 2
}
